{
 "cells": [
  {
   "cell_type": "code",
   "execution_count": 1,
   "metadata": {
    "collapsed": false
   },
   "outputs": [],
   "source": [
    "%matplotlib inline\n",
    "import pandas as pd\n",
    "import numpy as np\n",
    "import matplotlib.pyplot as plt"
   ]
  },
  {
   "cell_type": "code",
   "execution_count": 25,
   "metadata": {
    "collapsed": false
   },
   "outputs": [
    {
     "data": {
      "text/html": [
       "<div>\n",
       "<table border=\"1\" class=\"dataframe\">\n",
       "  <thead>\n",
       "    <tr style=\"text-align: right;\">\n",
       "      <th></th>\n",
       "      <th>map</th>\n",
       "      <th>session</th>\n",
       "      <th>spineMapRow</th>\n",
       "      <th>segmentMapRow</th>\n",
       "      <th>Idx</th>\n",
       "      <th>roiType</th>\n",
       "      <th>roiTypeNum</th>\n",
       "      <th>x</th>\n",
       "      <th>y</th>\n",
       "      <th>z</th>\n",
       "      <th>...</th>\n",
       "      <th>dMinus_ch2</th>\n",
       "      <th>dbSum_ch2</th>\n",
       "      <th>dbMean_ch2</th>\n",
       "      <th>dbSD_ch2</th>\n",
       "      <th>dbN_ch2</th>\n",
       "      <th>ubssSum_ch2</th>\n",
       "      <th>ubssMean_ch2</th>\n",
       "      <th>ubsdSum_ch2</th>\n",
       "      <th>ubsdMean_ch2</th>\n",
       "      <th>Unnamed: 135</th>\n",
       "    </tr>\n",
       "    <tr>\n",
       "      <th>masterIdx</th>\n",
       "      <th></th>\n",
       "      <th></th>\n",
       "      <th></th>\n",
       "      <th></th>\n",
       "      <th></th>\n",
       "      <th></th>\n",
       "      <th></th>\n",
       "      <th></th>\n",
       "      <th></th>\n",
       "      <th></th>\n",
       "      <th></th>\n",
       "      <th></th>\n",
       "      <th></th>\n",
       "      <th></th>\n",
       "      <th></th>\n",
       "      <th></th>\n",
       "      <th></th>\n",
       "      <th></th>\n",
       "      <th></th>\n",
       "      <th></th>\n",
       "      <th></th>\n",
       "    </tr>\n",
       "  </thead>\n",
       "  <tbody>\n",
       "    <tr>\n",
       "      <th>70</th>\n",
       "      <td>rr49c</td>\n",
       "      <td>0</td>\n",
       "      <td>70</td>\n",
       "      <td>2</td>\n",
       "      <td>70</td>\n",
       "      <td>controlPnt</td>\n",
       "      <td>2</td>\n",
       "      <td>108.3800</td>\n",
       "      <td>46.448</td>\n",
       "      <td>57</td>\n",
       "      <td>...</td>\n",
       "      <td>NaN</td>\n",
       "      <td>NaN</td>\n",
       "      <td>NaN</td>\n",
       "      <td>NaN</td>\n",
       "      <td>NaN</td>\n",
       "      <td>NaN</td>\n",
       "      <td>NaN</td>\n",
       "      <td>NaN</td>\n",
       "      <td>NaN</td>\n",
       "      <td>NaN</td>\n",
       "    </tr>\n",
       "    <tr>\n",
       "      <th>71</th>\n",
       "      <td>rr49c</td>\n",
       "      <td>0</td>\n",
       "      <td>71</td>\n",
       "      <td>2</td>\n",
       "      <td>71</td>\n",
       "      <td>controlPnt</td>\n",
       "      <td>2</td>\n",
       "      <td>113.8900</td>\n",
       "      <td>48.651</td>\n",
       "      <td>59</td>\n",
       "      <td>...</td>\n",
       "      <td>NaN</td>\n",
       "      <td>NaN</td>\n",
       "      <td>NaN</td>\n",
       "      <td>NaN</td>\n",
       "      <td>NaN</td>\n",
       "      <td>NaN</td>\n",
       "      <td>NaN</td>\n",
       "      <td>NaN</td>\n",
       "      <td>NaN</td>\n",
       "      <td>NaN</td>\n",
       "    </tr>\n",
       "    <tr>\n",
       "      <th>72</th>\n",
       "      <td>rr49c</td>\n",
       "      <td>0</td>\n",
       "      <td>72</td>\n",
       "      <td>2</td>\n",
       "      <td>72</td>\n",
       "      <td>controlPnt</td>\n",
       "      <td>2</td>\n",
       "      <td>118.6600</td>\n",
       "      <td>50.610</td>\n",
       "      <td>59</td>\n",
       "      <td>...</td>\n",
       "      <td>NaN</td>\n",
       "      <td>NaN</td>\n",
       "      <td>NaN</td>\n",
       "      <td>NaN</td>\n",
       "      <td>NaN</td>\n",
       "      <td>NaN</td>\n",
       "      <td>NaN</td>\n",
       "      <td>NaN</td>\n",
       "      <td>NaN</td>\n",
       "      <td>NaN</td>\n",
       "    </tr>\n",
       "    <tr>\n",
       "      <th>73</th>\n",
       "      <td>rr49c</td>\n",
       "      <td>0</td>\n",
       "      <td>73</td>\n",
       "      <td>2</td>\n",
       "      <td>73</td>\n",
       "      <td>controlPnt</td>\n",
       "      <td>2</td>\n",
       "      <td>122.3300</td>\n",
       "      <td>51.711</td>\n",
       "      <td>59</td>\n",
       "      <td>...</td>\n",
       "      <td>NaN</td>\n",
       "      <td>NaN</td>\n",
       "      <td>NaN</td>\n",
       "      <td>NaN</td>\n",
       "      <td>NaN</td>\n",
       "      <td>NaN</td>\n",
       "      <td>NaN</td>\n",
       "      <td>NaN</td>\n",
       "      <td>NaN</td>\n",
       "      <td>NaN</td>\n",
       "    </tr>\n",
       "    <tr>\n",
       "      <th>74</th>\n",
       "      <td>rr49c</td>\n",
       "      <td>0</td>\n",
       "      <td>75</td>\n",
       "      <td>0</td>\n",
       "      <td>75</td>\n",
       "      <td>spineROI</td>\n",
       "      <td>0</td>\n",
       "      <td>2.9738</td>\n",
       "      <td>114.970</td>\n",
       "      <td>21</td>\n",
       "      <td>...</td>\n",
       "      <td>NaN</td>\n",
       "      <td>26466</td>\n",
       "      <td>61.263889</td>\n",
       "      <td>78.018944</td>\n",
       "      <td>432</td>\n",
       "      <td>56846</td>\n",
       "      <td>74.601044</td>\n",
       "      <td>23139</td>\n",
       "      <td>53.562496</td>\n",
       "      <td>NaN</td>\n",
       "    </tr>\n",
       "  </tbody>\n",
       "</table>\n",
       "<p>5 rows × 135 columns</p>\n",
       "</div>"
      ],
      "text/plain": [
       "             map  session  spineMapRow  segmentMapRow  Idx     roiType  \\\n",
       "masterIdx                                                                \n",
       "70         rr49c        0           70              2   70  controlPnt   \n",
       "71         rr49c        0           71              2   71  controlPnt   \n",
       "72         rr49c        0           72              2   72  controlPnt   \n",
       "73         rr49c        0           73              2   73  controlPnt   \n",
       "74         rr49c        0           75              0   75    spineROI   \n",
       "\n",
       "           roiTypeNum         x        y   z      ...       dMinus_ch2  \\\n",
       "masterIdx                                         ...                    \n",
       "70                  2  108.3800   46.448  57      ...              NaN   \n",
       "71                  2  113.8900   48.651  59      ...              NaN   \n",
       "72                  2  118.6600   50.610  59      ...              NaN   \n",
       "73                  2  122.3300   51.711  59      ...              NaN   \n",
       "74                  0    2.9738  114.970  21      ...              NaN   \n",
       "\n",
       "           dbSum_ch2  dbMean_ch2   dbSD_ch2  dbN_ch2  ubssSum_ch2  \\\n",
       "masterIdx                                                           \n",
       "70               NaN         NaN        NaN      NaN          NaN   \n",
       "71               NaN         NaN        NaN      NaN          NaN   \n",
       "72               NaN         NaN        NaN      NaN          NaN   \n",
       "73               NaN         NaN        NaN      NaN          NaN   \n",
       "74             26466   61.263889  78.018944      432        56846   \n",
       "\n",
       "           ubssMean_ch2  ubsdSum_ch2 ubsdMean_ch2  Unnamed: 135  \n",
       "masterIdx                                                        \n",
       "70                  NaN          NaN          NaN           NaN  \n",
       "71                  NaN          NaN          NaN           NaN  \n",
       "72                  NaN          NaN          NaN           NaN  \n",
       "73                  NaN          NaN          NaN           NaN  \n",
       "74            74.601044        23139    53.562496           NaN  \n",
       "\n",
       "[5 rows x 135 columns]"
      ]
     },
     "execution_count": 25,
     "metadata": {},
     "output_type": "execute_result"
    }
   ],
   "source": [
    "filepath = './rr49c/rr49c_objects_e.txt'\n",
    "\n",
    "df = pd.read_csv(\n",
    "        filepath,\n",
    "        header=1,\n",
    "        index_col = 0)\n",
    "\n",
    "spineMapFile = './rr49c/rr49c_spineMap_e.txt'\n",
    "spineMap = pd.read_table(\n",
    "        spineMapFile,\n",
    "        header=None)\n",
    "\n",
    "# look at rows 35 to 45\n",
    "df[70:75]\n"
   ]
  },
  {
   "cell_type": "code",
   "execution_count": null,
   "metadata": {
    "collapsed": false
   },
   "outputs": [],
   "source": [
    "# plot x/y position of all points\n",
    "plt.scatter(df['x'], df['y'])"
   ]
  },
  {
   "cell_type": "code",
   "execution_count": null,
   "metadata": {
    "collapsed": false
   },
   "outputs": [],
   "source": [
    "#read in header\n",
    "with open(filepath, 'U') as f:\n",
    "    headerStr = f.readline().strip('\\n')\n",
    "\n",
    "#remove trailing ';' from header\n",
    "headerStr = headerStr[:-1] #assuming last character is ';' and you want it removed\n",
    "\n",
    "#print repr(headerStr)\n",
    "headerDict = {}\n",
    "for i in headerStr.split(';'):\n",
    "    k, v = i.split('=')\n",
    "    headerDict[k] = v\n",
    "\n",
    "#now we can get number of sessions with headerDict['numSessions']\n",
    "headerDict"
   ]
  },
  {
   "cell_type": "code",
   "execution_count": null,
   "metadata": {
    "collapsed": false
   },
   "outputs": [],
   "source": [
    "#just spines\n",
    "spines = df[df['roiType'] == 'spineROI']\n",
    "plt.scatter(spines['x'], spines['y'])"
   ]
  },
  {
   "cell_type": "code",
   "execution_count": null,
   "metadata": {
    "collapsed": false
   },
   "outputs": [],
   "source": [
    "#session 2 spines\n",
    "spines = df[df['roiType'] == 'spineROI']\n",
    "spines2 = spines[spines['session'] == 2]\n",
    "plt.scatter(spines2['x'], spines2['y'])"
   ]
  },
  {
   "cell_type": "code",
   "execution_count": null,
   "metadata": {
    "collapsed": false
   },
   "outputs": [],
   "source": [
    "#a plot of each sessions spines\n",
    "spines = df[df['roiType'] == 'spineROI']\n",
    "\n",
    "numSessions = int(headerDict['numSessions'])\n",
    "for i in range(numSessions):\n",
    "    print i\n",
    "    spines2 = spines[spines['session'] == i]\n",
    "    plt.scatter(spines2['x'], spines2['y'])"
   ]
  },
  {
   "cell_type": "code",
   "execution_count": 34,
   "metadata": {
    "collapsed": false
   },
   "outputs": [
    {
     "data": {
      "text/plain": [
       "460.0"
      ]
     },
     "execution_count": 34,
     "metadata": {},
     "output_type": "execute_result"
    }
   ],
   "source": [
    "df[75:76]\n",
    "spineMap.iloc[1,2]"
   ]
  },
  {
   "cell_type": "code",
   "execution_count": 32,
   "metadata": {
    "collapsed": false
   },
   "outputs": [
    {
     "name": "stdout",
     "output_type": "stream",
     "text": [
      "df.shape (1343, 135)\n",
      "spines.shape (911, 135)\n",
      "spines_seg1.shape (294, 135)\n",
      "             map  session  spineMapRow  segmentMapRow  Idx   roiType  \\\n",
      "masterIdx                                                              \n",
      "125        rr49c        0          129              1  129  spineROI   \n",
      "126        rr49c        0          132              1  132  spineROI   \n",
      "127        rr49c        0          133              1  133  spineROI   \n",
      "128        rr49c        0          134              1  134  spineROI   \n",
      "129        rr49c        0          135              1  135  spineROI   \n",
      "\n",
      "           roiTypeNum        x       y   z      ...       dMinus_ch2  \\\n",
      "masterIdx                                       ...                    \n",
      "125                 0   7.4135  44.949  11      ...              NaN   \n",
      "126                 0  14.3670  45.431  14      ...              NaN   \n",
      "127                 0  15.1240  41.025  15      ...              NaN   \n",
      "128                 0  16.0880  45.982  17      ...              NaN   \n",
      "129                 0  18.7040  45.569  20      ...              NaN   \n",
      "\n",
      "           dbSum_ch2  dbMean_ch2   dbSD_ch2  dbN_ch2  ubssSum_ch2  \\\n",
      "masterIdx                                                           \n",
      "125            25606   54.021095  78.698822      474       423959   \n",
      "126            22318   49.595554  64.538391      450       492341   \n",
      "127            25804   55.852814  84.171272      462       137847   \n",
      "128            27643   55.844444  79.663879      495       204255   \n",
      "129            26444   54.749481  83.746910      483       118204   \n",
      "\n",
      "           ubssMean_ch2  ubsdSum_ch2 ubsdMean_ch2  Unnamed: 135  \n",
      "masterIdx                                                        \n",
      "125          281.513275        67226   141.826996           NaN  \n",
      "126          324.977570        37567    83.482224           NaN  \n",
      "127           88.024902        33063    71.564934           NaN  \n",
      "128          177.767624        33622    67.923233           NaN  \n",
      "129           94.261566        43262    89.569366           NaN  \n",
      "\n",
      "[5 rows x 135 columns]\n",
      "spineMap.shape 707 6\n"
     ]
    },
    {
     "ename": "KeyError",
     "evalue": "'the label [0] is not in the [index]'",
     "output_type": "error",
     "traceback": [
      "\u001b[0;31m---------------------------------------------------------------------------\u001b[0m",
      "\u001b[0;31mKeyError\u001b[0m                                  Traceback (most recent call last)",
      "\u001b[0;32m<ipython-input-32-5c07bd96f10a>\u001b[0m in \u001b[0;36m<module>\u001b[0;34m()\u001b[0m\n\u001b[1;32m     19\u001b[0m         \u001b[0;32mif\u001b[0m \u001b[0mspineMap\u001b[0m\u001b[0;34m.\u001b[0m\u001b[0mloc\u001b[0m\u001b[0;34m[\u001b[0m\u001b[0mi\u001b[0m\u001b[0;34m,\u001b[0m\u001b[0mj\u001b[0m\u001b[0;34m]\u001b[0m \u001b[0;34m>=\u001b[0m \u001b[0;36m0\u001b[0m\u001b[0;34m:\u001b[0m\u001b[0;34m\u001b[0m\u001b[0m\n\u001b[1;32m     20\u001b[0m             \u001b[0;31m#yPlot[i][j] = df['sSum_ch2'].iloc[int(spineMap.loc[i,j])]\u001b[0m\u001b[0;34m\u001b[0m\u001b[0;34m\u001b[0m\u001b[0m\n\u001b[0;32m---> 21\u001b[0;31m             \u001b[0myPlot\u001b[0m\u001b[0;34m[\u001b[0m\u001b[0mi\u001b[0m\u001b[0;34m]\u001b[0m\u001b[0;34m[\u001b[0m\u001b[0mj\u001b[0m\u001b[0;34m]\u001b[0m \u001b[0;34m=\u001b[0m \u001b[0mspines_seg1\u001b[0m\u001b[0;34m[\u001b[0m\u001b[0;34m'sSum_ch2'\u001b[0m\u001b[0;34m]\u001b[0m\u001b[0;34m.\u001b[0m\u001b[0mloc\u001b[0m\u001b[0;34m[\u001b[0m\u001b[0mspineMap\u001b[0m\u001b[0;34m.\u001b[0m\u001b[0mloc\u001b[0m\u001b[0;34m[\u001b[0m\u001b[0mi\u001b[0m\u001b[0;34m,\u001b[0m\u001b[0mj\u001b[0m\u001b[0;34m]\u001b[0m\u001b[0;34m]\u001b[0m\u001b[0;34m\u001b[0m\u001b[0m\n\u001b[0m\u001b[1;32m     22\u001b[0m             \u001b[0mxPlot\u001b[0m\u001b[0;34m[\u001b[0m\u001b[0mi\u001b[0m\u001b[0;34m]\u001b[0m\u001b[0;34m[\u001b[0m\u001b[0mj\u001b[0m\u001b[0;34m]\u001b[0m \u001b[0;34m=\u001b[0m \u001b[0mspines_seg1\u001b[0m\u001b[0;34m[\u001b[0m\u001b[0;34m'session'\u001b[0m\u001b[0;34m]\u001b[0m\u001b[0;34m.\u001b[0m\u001b[0mloc\u001b[0m\u001b[0;34m[\u001b[0m\u001b[0mspineMap\u001b[0m\u001b[0;34m.\u001b[0m\u001b[0mloc\u001b[0m\u001b[0;34m[\u001b[0m\u001b[0mi\u001b[0m\u001b[0;34m,\u001b[0m\u001b[0mj\u001b[0m\u001b[0;34m]\u001b[0m\u001b[0;34m]\u001b[0m\u001b[0;34m\u001b[0m\u001b[0m\n\u001b[1;32m     23\u001b[0m             \u001b[0;31m#xPlot[i][j] = df['session'].iloc[int(spineMap.loc[i,j])]\u001b[0m\u001b[0;34m\u001b[0m\u001b[0;34m\u001b[0m\u001b[0m\n",
      "\u001b[0;32m/Users/cudmore/anaconda/lib/python2.7/site-packages/pandas/core/indexing.pyc\u001b[0m in \u001b[0;36m__getitem__\u001b[0;34m(self, key)\u001b[0m\n\u001b[1;32m   1187\u001b[0m             \u001b[0;32mreturn\u001b[0m \u001b[0mself\u001b[0m\u001b[0;34m.\u001b[0m\u001b[0m_getitem_tuple\u001b[0m\u001b[0;34m(\u001b[0m\u001b[0mkey\u001b[0m\u001b[0;34m)\u001b[0m\u001b[0;34m\u001b[0m\u001b[0m\n\u001b[1;32m   1188\u001b[0m         \u001b[0;32melse\u001b[0m\u001b[0;34m:\u001b[0m\u001b[0;34m\u001b[0m\u001b[0m\n\u001b[0;32m-> 1189\u001b[0;31m             \u001b[0;32mreturn\u001b[0m \u001b[0mself\u001b[0m\u001b[0;34m.\u001b[0m\u001b[0m_getitem_axis\u001b[0m\u001b[0;34m(\u001b[0m\u001b[0mkey\u001b[0m\u001b[0;34m,\u001b[0m \u001b[0maxis\u001b[0m\u001b[0;34m=\u001b[0m\u001b[0;36m0\u001b[0m\u001b[0;34m)\u001b[0m\u001b[0;34m\u001b[0m\u001b[0m\n\u001b[0m\u001b[1;32m   1190\u001b[0m \u001b[0;34m\u001b[0m\u001b[0m\n\u001b[1;32m   1191\u001b[0m     \u001b[0;32mdef\u001b[0m \u001b[0m_getitem_axis\u001b[0m\u001b[0;34m(\u001b[0m\u001b[0mself\u001b[0m\u001b[0;34m,\u001b[0m \u001b[0mkey\u001b[0m\u001b[0;34m,\u001b[0m \u001b[0maxis\u001b[0m\u001b[0;34m=\u001b[0m\u001b[0;36m0\u001b[0m\u001b[0;34m)\u001b[0m\u001b[0;34m:\u001b[0m\u001b[0;34m\u001b[0m\u001b[0m\n",
      "\u001b[0;32m/Users/cudmore/anaconda/lib/python2.7/site-packages/pandas/core/indexing.pyc\u001b[0m in \u001b[0;36m_getitem_axis\u001b[0;34m(self, key, axis)\u001b[0m\n\u001b[1;32m   1331\u001b[0m \u001b[0;34m\u001b[0m\u001b[0m\n\u001b[1;32m   1332\u001b[0m         \u001b[0;31m# fall thru to straight lookup\u001b[0m\u001b[0;34m\u001b[0m\u001b[0;34m\u001b[0m\u001b[0m\n\u001b[0;32m-> 1333\u001b[0;31m         \u001b[0mself\u001b[0m\u001b[0;34m.\u001b[0m\u001b[0m_has_valid_type\u001b[0m\u001b[0;34m(\u001b[0m\u001b[0mkey\u001b[0m\u001b[0;34m,\u001b[0m \u001b[0maxis\u001b[0m\u001b[0;34m)\u001b[0m\u001b[0;34m\u001b[0m\u001b[0m\n\u001b[0m\u001b[1;32m   1334\u001b[0m         \u001b[0;32mreturn\u001b[0m \u001b[0mself\u001b[0m\u001b[0;34m.\u001b[0m\u001b[0m_get_label\u001b[0m\u001b[0;34m(\u001b[0m\u001b[0mkey\u001b[0m\u001b[0;34m,\u001b[0m \u001b[0maxis\u001b[0m\u001b[0;34m=\u001b[0m\u001b[0maxis\u001b[0m\u001b[0;34m)\u001b[0m\u001b[0;34m\u001b[0m\u001b[0m\n\u001b[1;32m   1335\u001b[0m \u001b[0;34m\u001b[0m\u001b[0m\n",
      "\u001b[0;32m/Users/cudmore/anaconda/lib/python2.7/site-packages/pandas/core/indexing.pyc\u001b[0m in \u001b[0;36m_has_valid_type\u001b[0;34m(self, key, axis)\u001b[0m\n\u001b[1;32m   1293\u001b[0m                 \u001b[0;32mraise\u001b[0m\u001b[0;34m\u001b[0m\u001b[0m\n\u001b[1;32m   1294\u001b[0m             \u001b[0;32mexcept\u001b[0m\u001b[0;34m:\u001b[0m\u001b[0;34m\u001b[0m\u001b[0m\n\u001b[0;32m-> 1295\u001b[0;31m                 \u001b[0merror\u001b[0m\u001b[0;34m(\u001b[0m\u001b[0;34m)\u001b[0m\u001b[0;34m\u001b[0m\u001b[0m\n\u001b[0m\u001b[1;32m   1296\u001b[0m \u001b[0;34m\u001b[0m\u001b[0m\n\u001b[1;32m   1297\u001b[0m         \u001b[0;32mreturn\u001b[0m \u001b[0mTrue\u001b[0m\u001b[0;34m\u001b[0m\u001b[0m\n",
      "\u001b[0;32m/Users/cudmore/anaconda/lib/python2.7/site-packages/pandas/core/indexing.pyc\u001b[0m in \u001b[0;36merror\u001b[0;34m()\u001b[0m\n\u001b[1;32m   1280\u001b[0m                         \"cannot use label indexing with a null key\")\n\u001b[1;32m   1281\u001b[0m                 raise KeyError(\"the label [%s] is not in the [%s]\" %\n\u001b[0;32m-> 1282\u001b[0;31m                                (key, self.obj._get_axis_name(axis)))\n\u001b[0m\u001b[1;32m   1283\u001b[0m \u001b[0;34m\u001b[0m\u001b[0m\n\u001b[1;32m   1284\u001b[0m             \u001b[0;32mtry\u001b[0m\u001b[0;34m:\u001b[0m\u001b[0;34m\u001b[0m\u001b[0m\n",
      "\u001b[0;31mKeyError\u001b[0m: 'the label [0] is not in the [index]'"
     ]
    }
   ],
   "source": [
    "print 'df.shape', df.shape\n",
    "spines = df[df['roiType'] == 'spineROI']\n",
    "print 'spines.shape', spines.shape\n",
    "spines_seg1 = spines[spines['segmentMapRow']==1]\n",
    "print 'spines_seg1.shape', spines_seg1.shape\n",
    "\n",
    "print spines_seg1.head()\n",
    "\n",
    "m, n = spineMap.shape\n",
    "print 'spineMap.shape', m, n\n",
    "\n",
    "#spineMapInt = spineMap.astype(int) #does not work because of NaN\n",
    "\n",
    "#shit, this is way harder than i thought\n",
    "yPlot = np.empty([m,n], dtype=np.float)\n",
    "xPlot = np.empty([m,n], dtype=np.float)\n",
    "for i in range(m):\n",
    "    for j in range(n):\n",
    "        if spineMap.loc[i,j] >= 0:\n",
    "            #yPlot[i][j] = df['sSum_ch2'].iloc[int(spineMap.loc[i,j])]\n",
    "            yPlot[i][j] = df['sSum_ch2'].loc[spineMap.loc[i,j]]\n",
    "            xPlot[i][j] = df['session'].loc[spineMap.loc[i,j]]\n",
    "            #xPlot[i][j] = df['session'].iloc[int(spineMap.loc[i,j])]\n",
    "\n",
    "print 'yPlot.shape', yPlot.shape\n",
    "\n",
    "plt.scatter(xPlot,yPlot)\n",
    "        "
   ]
  },
  {
   "cell_type": "code",
   "execution_count": null,
   "metadata": {
    "collapsed": false
   },
   "outputs": [],
   "source": []
  },
  {
   "cell_type": "code",
   "execution_count": null,
   "metadata": {
    "collapsed": true
   },
   "outputs": [],
   "source": []
  }
 ],
 "metadata": {
  "kernelspec": {
   "display_name": "Python 2",
   "language": "python",
   "name": "python2"
  },
  "language_info": {
   "codemirror_mode": {
    "name": "ipython",
    "version": 2
   },
   "file_extension": ".py",
   "mimetype": "text/x-python",
   "name": "python",
   "nbconvert_exporter": "python",
   "pygments_lexer": "ipython2",
   "version": "2.7.10"
  }
 },
 "nbformat": 4,
 "nbformat_minor": 0
}
