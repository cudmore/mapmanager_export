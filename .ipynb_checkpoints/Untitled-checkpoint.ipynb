{
 "cells": [
  {
   "cell_type": "code",
   "execution_count": 12,
   "metadata": {
    "collapsed": false
   },
   "outputs": [],
   "source": [
    "%matplotlib inline\n",
    "import pandas as pd\n",
    "import numpy as np\n",
    "import matplotlib.pyplot as plt"
   ]
  },
  {
   "cell_type": "code",
   "execution_count": 13,
   "metadata": {
    "collapsed": false
   },
   "outputs": [
    {
     "data": {
      "text/html": [
       "<div>\n",
       "<table border=\"1\" class=\"dataframe\">\n",
       "  <thead>\n",
       "    <tr style=\"text-align: right;\">\n",
       "      <th></th>\n",
       "      <th>masterIdx</th>\n",
       "      <th>map</th>\n",
       "      <th>session</th>\n",
       "      <th>spineMapRow</th>\n",
       "      <th>segmentMapRow</th>\n",
       "      <th>Idx</th>\n",
       "      <th>roiType</th>\n",
       "      <th>roiTypeNum</th>\n",
       "      <th>x</th>\n",
       "      <th>y</th>\n",
       "      <th>...</th>\n",
       "      <th>dMinus_ch2</th>\n",
       "      <th>dbSum_ch2</th>\n",
       "      <th>dbMean_ch2</th>\n",
       "      <th>dbSD_ch2</th>\n",
       "      <th>dbN_ch2</th>\n",
       "      <th>ubssSum_ch2</th>\n",
       "      <th>ubssMean_ch2</th>\n",
       "      <th>ubsdSum_ch2</th>\n",
       "      <th>ubsdMean_ch2</th>\n",
       "      <th>Unnamed: 135</th>\n",
       "    </tr>\n",
       "  </thead>\n",
       "  <tbody>\n",
       "    <tr>\n",
       "      <th>70</th>\n",
       "      <td>70</td>\n",
       "      <td>rr49c</td>\n",
       "      <td>0</td>\n",
       "      <td>70</td>\n",
       "      <td>2</td>\n",
       "      <td>70</td>\n",
       "      <td>controlPnt</td>\n",
       "      <td>2</td>\n",
       "      <td>108.3800</td>\n",
       "      <td>46.448</td>\n",
       "      <td>...</td>\n",
       "      <td>NaN</td>\n",
       "      <td>NaN</td>\n",
       "      <td>NaN</td>\n",
       "      <td>NaN</td>\n",
       "      <td>NaN</td>\n",
       "      <td>NaN</td>\n",
       "      <td>NaN</td>\n",
       "      <td>NaN</td>\n",
       "      <td>NaN</td>\n",
       "      <td>NaN</td>\n",
       "    </tr>\n",
       "    <tr>\n",
       "      <th>71</th>\n",
       "      <td>71</td>\n",
       "      <td>rr49c</td>\n",
       "      <td>0</td>\n",
       "      <td>71</td>\n",
       "      <td>2</td>\n",
       "      <td>71</td>\n",
       "      <td>controlPnt</td>\n",
       "      <td>2</td>\n",
       "      <td>113.8900</td>\n",
       "      <td>48.651</td>\n",
       "      <td>...</td>\n",
       "      <td>NaN</td>\n",
       "      <td>NaN</td>\n",
       "      <td>NaN</td>\n",
       "      <td>NaN</td>\n",
       "      <td>NaN</td>\n",
       "      <td>NaN</td>\n",
       "      <td>NaN</td>\n",
       "      <td>NaN</td>\n",
       "      <td>NaN</td>\n",
       "      <td>NaN</td>\n",
       "    </tr>\n",
       "    <tr>\n",
       "      <th>72</th>\n",
       "      <td>72</td>\n",
       "      <td>rr49c</td>\n",
       "      <td>0</td>\n",
       "      <td>72</td>\n",
       "      <td>2</td>\n",
       "      <td>72</td>\n",
       "      <td>controlPnt</td>\n",
       "      <td>2</td>\n",
       "      <td>118.6600</td>\n",
       "      <td>50.610</td>\n",
       "      <td>...</td>\n",
       "      <td>NaN</td>\n",
       "      <td>NaN</td>\n",
       "      <td>NaN</td>\n",
       "      <td>NaN</td>\n",
       "      <td>NaN</td>\n",
       "      <td>NaN</td>\n",
       "      <td>NaN</td>\n",
       "      <td>NaN</td>\n",
       "      <td>NaN</td>\n",
       "      <td>NaN</td>\n",
       "    </tr>\n",
       "    <tr>\n",
       "      <th>73</th>\n",
       "      <td>73</td>\n",
       "      <td>rr49c</td>\n",
       "      <td>0</td>\n",
       "      <td>73</td>\n",
       "      <td>2</td>\n",
       "      <td>73</td>\n",
       "      <td>controlPnt</td>\n",
       "      <td>2</td>\n",
       "      <td>122.3300</td>\n",
       "      <td>51.711</td>\n",
       "      <td>...</td>\n",
       "      <td>NaN</td>\n",
       "      <td>NaN</td>\n",
       "      <td>NaN</td>\n",
       "      <td>NaN</td>\n",
       "      <td>NaN</td>\n",
       "      <td>NaN</td>\n",
       "      <td>NaN</td>\n",
       "      <td>NaN</td>\n",
       "      <td>NaN</td>\n",
       "      <td>NaN</td>\n",
       "    </tr>\n",
       "    <tr>\n",
       "      <th>74</th>\n",
       "      <td>74</td>\n",
       "      <td>rr49c</td>\n",
       "      <td>0</td>\n",
       "      <td>75</td>\n",
       "      <td>0</td>\n",
       "      <td>75</td>\n",
       "      <td>spineROI</td>\n",
       "      <td>0</td>\n",
       "      <td>2.9738</td>\n",
       "      <td>114.970</td>\n",
       "      <td>...</td>\n",
       "      <td>NaN</td>\n",
       "      <td>26466</td>\n",
       "      <td>61.263889</td>\n",
       "      <td>78.018944</td>\n",
       "      <td>432</td>\n",
       "      <td>56846</td>\n",
       "      <td>74.601044</td>\n",
       "      <td>23139</td>\n",
       "      <td>53.562496</td>\n",
       "      <td>NaN</td>\n",
       "    </tr>\n",
       "  </tbody>\n",
       "</table>\n",
       "<p>5 rows × 136 columns</p>\n",
       "</div>"
      ],
      "text/plain": [
       "    masterIdx    map  session  spineMapRow  segmentMapRow  Idx     roiType  \\\n",
       "70         70  rr49c        0           70              2   70  controlPnt   \n",
       "71         71  rr49c        0           71              2   71  controlPnt   \n",
       "72         72  rr49c        0           72              2   72  controlPnt   \n",
       "73         73  rr49c        0           73              2   73  controlPnt   \n",
       "74         74  rr49c        0           75              0   75    spineROI   \n",
       "\n",
       "    roiTypeNum         x        y     ...       dMinus_ch2  dbSum_ch2  \\\n",
       "70           2  108.3800   46.448     ...              NaN        NaN   \n",
       "71           2  113.8900   48.651     ...              NaN        NaN   \n",
       "72           2  118.6600   50.610     ...              NaN        NaN   \n",
       "73           2  122.3300   51.711     ...              NaN        NaN   \n",
       "74           0    2.9738  114.970     ...              NaN      26466   \n",
       "\n",
       "    dbMean_ch2   dbSD_ch2  dbN_ch2  ubssSum_ch2  ubssMean_ch2  ubsdSum_ch2  \\\n",
       "70         NaN        NaN      NaN          NaN           NaN          NaN   \n",
       "71         NaN        NaN      NaN          NaN           NaN          NaN   \n",
       "72         NaN        NaN      NaN          NaN           NaN          NaN   \n",
       "73         NaN        NaN      NaN          NaN           NaN          NaN   \n",
       "74   61.263889  78.018944      432        56846     74.601044        23139   \n",
       "\n",
       "    ubsdMean_ch2 Unnamed: 135  \n",
       "70           NaN          NaN  \n",
       "71           NaN          NaN  \n",
       "72           NaN          NaN  \n",
       "73           NaN          NaN  \n",
       "74     53.562496          NaN  \n",
       "\n",
       "[5 rows x 136 columns]"
      ]
     },
     "execution_count": 13,
     "metadata": {},
     "output_type": "execute_result"
    }
   ],
   "source": [
    "filepath = './rr49c/rr49c_objects_e.txt'\n",
    "\n",
    "df = pd.read_csv(\n",
    "        filepath,\n",
    "        header=1)\n",
    "\n",
    "spineMapFile = './rr49c/rr49c_spineMap_e.txt'\n",
    "spineMap = pd.read_table(\n",
    "        spineMapFile,\n",
    "        header=None)\n",
    "\n",
    "# look at rows 35 to 45\n",
    "df[70:75]\n"
   ]
  },
  {
   "cell_type": "code",
   "execution_count": null,
   "metadata": {
    "collapsed": false
   },
   "outputs": [],
   "source": [
    "# plot x/y position of all points\n",
    "plt.scatter(df['x'], df['y'])"
   ]
  },
  {
   "cell_type": "code",
   "execution_count": null,
   "metadata": {
    "collapsed": false
   },
   "outputs": [],
   "source": [
    "#read in header\n",
    "with open(filepath, 'U') as f:\n",
    "    headerStr = f.readline().strip('\\n')\n",
    "\n",
    "#remove trailing ';' from header\n",
    "headerStr = headerStr[:-1] #assuming last character is ';' and you want it removed\n",
    "\n",
    "#print repr(headerStr)\n",
    "headerDict = {}\n",
    "for i in headerStr.split(';'):\n",
    "    k, v = i.split('=')\n",
    "    headerDict[k] = v\n",
    "\n",
    "#now we can get number of sessions with headerDict['numSessions']\n",
    "headerDict"
   ]
  },
  {
   "cell_type": "code",
   "execution_count": null,
   "metadata": {
    "collapsed": false
   },
   "outputs": [],
   "source": [
    "#just spines\n",
    "spines = df[df['roiType'] == 'spineROI']\n",
    "plt.scatter(spines['x'], spines['y'])"
   ]
  },
  {
   "cell_type": "code",
   "execution_count": null,
   "metadata": {
    "collapsed": false
   },
   "outputs": [],
   "source": [
    "#session 2 spines\n",
    "spines = df[df['roiType'] == 'spineROI']\n",
    "spines2 = spines[spines['session'] == 2]\n",
    "plt.scatter(spines2['x'], spines2['y'])"
   ]
  },
  {
   "cell_type": "code",
   "execution_count": null,
   "metadata": {
    "collapsed": false
   },
   "outputs": [],
   "source": [
    "#a plot of each sessions spines\n",
    "spines = df[df['roiType'] == 'spineROI']\n",
    "\n",
    "numSessions = int(headerDict['numSessions'])\n",
    "for i in range(numSessions):\n",
    "    print i\n",
    "    spines2 = spines[spines['session'] == i]\n",
    "    plt.scatter(spines2['x'], spines2['y'])"
   ]
  },
  {
   "cell_type": "code",
   "execution_count": 34,
   "metadata": {
    "collapsed": false
   },
   "outputs": [
    {
     "data": {
      "text/plain": [
       "460.0"
      ]
     },
     "execution_count": 34,
     "metadata": {},
     "output_type": "execute_result"
    }
   ],
   "source": [
    "df[75:76]\n",
    "spineMap.iloc[1,2]"
   ]
  },
  {
   "cell_type": "code",
   "execution_count": 46,
   "metadata": {
    "collapsed": false
   },
   "outputs": [
    {
     "ename": "ValueError",
     "evalue": "cannot convert float NaN to integer",
     "output_type": "error",
     "traceback": [
      "\u001b[0;31m---------------------------------------------------------------------------\u001b[0m",
      "\u001b[0;31mValueError\u001b[0m                                Traceback (most recent call last)",
      "\u001b[0;32m<ipython-input-46-9d7468ee7de1>\u001b[0m in \u001b[0;36m<module>\u001b[0;34m()\u001b[0m\n\u001b[1;32m     11\u001b[0m     \u001b[0;32mfor\u001b[0m \u001b[0mj\u001b[0m \u001b[0;32min\u001b[0m \u001b[0mrange\u001b[0m\u001b[0;34m(\u001b[0m\u001b[0mn\u001b[0m\u001b[0;34m)\u001b[0m\u001b[0;34m:\u001b[0m\u001b[0;34m\u001b[0m\u001b[0m\n\u001b[1;32m     12\u001b[0m         \u001b[0;32mif\u001b[0m \u001b[0mspineMap\u001b[0m\u001b[0;34m.\u001b[0m\u001b[0mloc\u001b[0m\u001b[0;34m[\u001b[0m\u001b[0mi\u001b[0m\u001b[0;34m,\u001b[0m\u001b[0mj\u001b[0m\u001b[0;34m]\u001b[0m \u001b[0;32mis\u001b[0m \u001b[0;32mnot\u001b[0m \u001b[0mNone\u001b[0m\u001b[0;34m:\u001b[0m\u001b[0;34m\u001b[0m\u001b[0m\n\u001b[0;32m---> 13\u001b[0;31m             \u001b[0mdf\u001b[0m\u001b[0;34m[\u001b[0m\u001b[0;34m'sSum_ch1'\u001b[0m\u001b[0;34m]\u001b[0m\u001b[0;34m.\u001b[0m\u001b[0miloc\u001b[0m\u001b[0;34m[\u001b[0m\u001b[0mint\u001b[0m\u001b[0;34m(\u001b[0m\u001b[0mspineMap\u001b[0m\u001b[0;34m.\u001b[0m\u001b[0mloc\u001b[0m\u001b[0;34m[\u001b[0m\u001b[0mi\u001b[0m\u001b[0;34m,\u001b[0m\u001b[0mj\u001b[0m\u001b[0;34m]\u001b[0m\u001b[0;34m)\u001b[0m\u001b[0;34m]\u001b[0m\u001b[0;34m\u001b[0m\u001b[0m\n\u001b[0m\u001b[1;32m     14\u001b[0m             \u001b[0;31m#yPlot[i][j] = df['sSum_ch1'].iloc[int(spineMap.loc[i,j])]\u001b[0m\u001b[0;34m\u001b[0m\u001b[0;34m\u001b[0m\u001b[0m\n\u001b[1;32m     15\u001b[0m             \u001b[0mxPlot\u001b[0m\u001b[0;34m[\u001b[0m\u001b[0mi\u001b[0m\u001b[0;34m]\u001b[0m\u001b[0;34m[\u001b[0m\u001b[0mj\u001b[0m\u001b[0;34m]\u001b[0m \u001b[0;34m=\u001b[0m \u001b[0mdf\u001b[0m\u001b[0;34m[\u001b[0m\u001b[0;34m'session'\u001b[0m\u001b[0;34m]\u001b[0m\u001b[0;34m.\u001b[0m\u001b[0miloc\u001b[0m\u001b[0;34m[\u001b[0m\u001b[0mi\u001b[0m\u001b[0;34m]\u001b[0m\u001b[0;34m\u001b[0m\u001b[0m\n",
      "\u001b[0;31mValueError\u001b[0m: cannot convert float NaN to integer"
     ]
    }
   ],
   "source": [
    "spines = df[df['roiType'] == 'spineROI']\n",
    "\n",
    "spines_seg1 = spines[spines['segmentMapRow']==1]\n",
    "\n",
    "m, n = spineMap.shape\n",
    "#spineMapInt = spineMap.astype(int) #does not work because of NaN\n",
    "\n",
    "#shit, this is way harder than i thought\n",
    "yPlot = np.empty([m,n], dtype=np.float)\n",
    "xPlot = np.empty([m,n], dtype=np.float)\n",
    "for i in range(m):\n",
    "    for j in range(n):\n",
    "        if spineMap.loc[i,j] is not None:\n",
    "            df['sSum_ch1'].iloc[int(spineMap.loc[i,j])]\n",
    "            #yPlot[i][j] = df['sSum_ch1'].iloc[int(spineMap.loc[i,j])]\n",
    "            xPlot[i][j] = df['session'].iloc[i]\n",
    "\n",
    "plt.scatter(xPlot,yPlot)\n",
    "        "
   ]
  },
  {
   "cell_type": "code",
   "execution_count": 17,
   "metadata": {
    "collapsed": false
   },
   "outputs": [
    {
     "data": {
      "text/plain": [
       "array([[  0.,   0.,   0.,   0.,   0.,   0.],\n",
       "       [  1.,   1.,   1.,   1.,   1.,   1.],\n",
       "       [  2.,   2.,   2.,   2.,   2.,   2.],\n",
       "       ..., \n",
       "       [ 12.,  12.,  12.,  12.,  12.,  12.],\n",
       "       [ 13.,  13.,  13.,  13.,  13.,  13.],\n",
       "       [ 14.,  14.,  14.,  14.,  14.,  14.]])"
      ]
     },
     "execution_count": 17,
     "metadata": {},
     "output_type": "execute_result"
    }
   ],
   "source": []
  },
  {
   "cell_type": "code",
   "execution_count": null,
   "metadata": {
    "collapsed": true
   },
   "outputs": [],
   "source": []
  }
 ],
 "metadata": {
  "kernelspec": {
   "display_name": "Python 2",
   "language": "python",
   "name": "python2"
  },
  "language_info": {
   "codemirror_mode": {
    "name": "ipython",
    "version": 2
   },
   "file_extension": ".py",
   "mimetype": "text/x-python",
   "name": "python",
   "nbconvert_exporter": "python",
   "pygments_lexer": "ipython2",
   "version": "2.7.10"
  }
 },
 "nbformat": 4,
 "nbformat_minor": 0
}
